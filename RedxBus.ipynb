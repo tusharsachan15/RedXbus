{
  "nbformat": 4,
  "nbformat_minor": 0,
  "metadata": {
    "colab": {
      "provenance": [],
      "gpuType": "T4"
    },
    "kernelspec": {
      "name": "python3",
      "display_name": "Python 3"
    },
    "language_info": {
      "name": "python"
    },
    "accelerator": "GPU"
  },
  "cells": [
    {
      "cell_type": "code",
      "execution_count": 1,
      "metadata": {
        "id": "e9TkEZeVBQlE"
      },
      "outputs": [],
      "source": [
        "# STEP 1: IMPORT LIBRARIES\n",
        "import pandas as pd\n",
        "import numpy as np\n",
        "from datetime import datetime\n",
        "from sklearn.model_selection import KFold\n",
        "from sklearn.linear_model import Ridge\n",
        "from sklearn.metrics import mean_squared_error\n",
        "from sklearn.preprocessing import LabelEncoder\n",
        "import lightgbm as lgb\n",
        "import xgboost as xgb\n",
        "import holidays\n",
        "import warnings\n",
        "warnings.filterwarnings(\"ignore\")"
      ]
    },
    {
      "cell_type": "code",
      "source": [
        "# STEP 2: LOAD DATA\n",
        "train = pd.read_csv(\"train.csv\", parse_dates=['doj'])\n",
        "test = pd.read_csv(\"/content/test_8gqdJqH.csv\", parse_dates=['doj'])\n",
        "transactions = pd.read_csv(\"transactions.csv\", parse_dates=['doj', 'doi'])\n",
        "\n",
        "# STEP 3: FILTER TRANSACTIONS FOR DBD=15\n",
        "trans_15 = transactions[transactions['dbd'] == 15].copy()\n",
        "\n",
        "# STEP 4: MERGE TRAIN & TEST WITH TRANS_15\n",
        "train_merged = pd.merge(train, trans_15, on=['doj', 'srcid', 'destid'], how='left')\n",
        "test_merged = pd.merge(test, trans_15, on=['doj', 'srcid', 'destid'], how='left')\n"
      ],
      "metadata": {
        "id": "CbCEmu-qCkF1"
      },
      "execution_count": 2,
      "outputs": []
    },
    {
      "cell_type": "code",
      "source": [
        "# STEP 5: FEATURE ENGINEERING FUNCTION\n",
        "india_holidays = holidays.India()\n",
        "def create_features(df):\n",
        "    df['day_of_week'] = df['doj'].dt.weekday\n",
        "    df['month'] = df['doj'].dt.month\n",
        "    df['is_weekend'] = df['day_of_week'].isin([5, 6]).astype(int)\n",
        "    df['route'] = df['srcid'].astype(str) + '_' + df['destid'].astype(str)\n",
        "    df['search_to_book_ratio'] = df['cumsum_searchcount'] / (df['cumsum_seatcount'] + 1)\n",
        "    df['search_to_book_ratio'] = df['search_to_book_ratio'].clip(upper=100)\n",
        "    # Encode region and tier\n",
        "    for col in ['srcid_region', 'destid_region', 'srcid_tier', 'destid_tier']:\n",
        "        if col in df.columns:\n",
        "            le = LabelEncoder()\n",
        "            df[col] = le.fit_transform(df[col].astype(str))\n",
        "    # Add holiday feature\n",
        "    df['is_holiday'] = df['doj'].isin(india_holidays).astype(int)\n",
        "    # Add school vacation (May-June, Dec-Jan in most regions)\n",
        "    df['is_school_vacation'] = df['month'].isin([5, 6, 12, 1]).astype(int)\n",
        "    # Add wedding season indicator (Feb, Nov, Dec are common months)\n",
        "    df['is_wedding_season'] = df['month'].isin([2, 11, 12]).astype(int)\n",
        "    return df\n",
        "\n",
        "train_feat = create_features(train_merged.copy())\n",
        "test_feat = create_features(test_merged.copy())"
      ],
      "metadata": {
        "id": "7OgMUmiZCp43"
      },
      "execution_count": 3,
      "outputs": []
    },
    {
      "cell_type": "code",
      "source": [
        "# STEP 6: DEFINE FEATURES & TARGET\n",
        "features = [\n",
        "    'day_of_week', 'month', 'is_weekend', 'is_holiday',\n",
        "    'is_school_vacation', 'is_wedding_season',\n",
        "    'srcid', 'destid', 'srcid_region', 'destid_region',\n",
        "    'srcid_tier', 'destid_tier',\n",
        "    'cumsum_seatcount', 'cumsum_searchcount', 'search_to_book_ratio'\n",
        "]\n",
        "target = 'final_seatcount'\n",
        "\n",
        "# Fill missing values\n",
        "for df in [train_feat, test_feat]:\n",
        "    df[features] = df[features].fillna(-1)\n",
        "\n",
        "X = train_feat[features]\n",
        "y = train_feat[target]\n",
        "X_test = test_feat[features]"
      ],
      "metadata": {
        "id": "cunNLBalCstn"
      },
      "execution_count": 4,
      "outputs": []
    },
    {
      "cell_type": "code",
      "source": [
        "# STEP 7: STACKING SETUP\n",
        "n_splits = 5\n",
        "kf = KFold(n_splits=n_splits, shuffle=True, random_state=42)\n",
        "\n",
        "# Out-of-fold and test predictions\n",
        "oof_lgb = np.zeros(len(X))\n",
        "oof_xgb = np.zeros(len(X))\n",
        "oof_ridge = np.zeros(len(X))\n",
        "\n",
        "preds_test_lgb = np.zeros(len(X_test))\n",
        "preds_test_xgb = np.zeros(len(X_test))\n",
        "preds_test_ridge = np.zeros(len(X_test))\n",
        "\n",
        "for fold, (train_idx, val_idx) in enumerate(kf.split(X, y)):\n",
        "    X_train, X_val = X.iloc[train_idx], X.iloc[val_idx]\n",
        "    y_train, y_val = y.iloc[train_idx], y.iloc[val_idx]\n",
        "\n",
        "    # LightGBM\n",
        "    lgb_train = lgb.Dataset(X_train, y_train)\n",
        "    lgb_val = lgb.Dataset(X_val, y_val)\n",
        "    lgb_model = lgb.train({\n",
        "        'objective': 'regression',\n",
        "        'metric': 'rmse',\n",
        "        'learning_rate': 0.05,\n",
        "        'verbosity': -1\n",
        "    },\n",
        "    train_set=lgb_train,\n",
        "    num_boost_round=1000,\n",
        "    valid_sets=[lgb_train, lgb_val],\n",
        "    valid_names=['train', 'valid'])\n",
        "\n",
        "    oof_lgb[val_idx] = lgb_model.predict(X_val)\n",
        "    preds_test_lgb += lgb_model.predict(X_test) / n_splits\n",
        "\n",
        "    # XGBoost\n",
        "    xgb_model = xgb.XGBRegressor(n_estimators=500, learning_rate=0.05)\n",
        "    xgb_model.fit(X_train, y_train,\n",
        "                  eval_set=[(X_val, y_val)],\n",
        "                  verbose=False)\n",
        "    oof_xgb[val_idx] = xgb_model.predict(X_val)\n",
        "    preds_test_xgb += xgb_model.predict(X_test) / n_splits\n",
        "\n",
        "    # Ridge\n",
        "    ridge_model = Ridge(alpha=1.0)\n",
        "    ridge_model.fit(X_train, y_train)\n",
        "    oof_ridge[val_idx] = ridge_model.predict(X_val)\n",
        "    preds_test_ridge += ridge_model.predict(X_test) / n_splits\n",
        "\n",
        "    # Print fold RMSEs\n",
        "    rmse_lgb = mean_squared_error(y_val, oof_lgb[val_idx])**0.5\n",
        "    rmse_xgb = mean_squared_error(y_val, oof_xgb[val_idx])**0.5\n",
        "    rmse_ridge = mean_squared_error(y_val, oof_ridge[val_idx])**0.5\n",
        "    print(f\"Fold {fold+1} RMSE - LGB: {rmse_lgb:.4f}, XGB: {rmse_xgb:.4f}, Ridge: {rmse_ridge:.4f}\")"
      ],
      "metadata": {
        "colab": {
          "base_uri": "https://localhost:8080/"
        },
        "id": "F49YrudlCvba",
        "outputId": "c64d27ea-b548-41a5-a2d5-789b1137bdcb"
      },
      "execution_count": 6,
      "outputs": [
        {
          "output_type": "stream",
          "name": "stdout",
          "text": [
            "Fold 1 RMSE - LGB: 429.9725, XGB: 441.6310, Ridge: 990.0841\n",
            "Fold 2 RMSE - LGB: 427.4086, XGB: 437.8318, Ridge: 993.1385\n",
            "Fold 3 RMSE - LGB: 420.3598, XGB: 428.0485, Ridge: 997.2632\n",
            "Fold 4 RMSE - LGB: 431.9694, XGB: 439.5836, Ridge: 985.7129\n",
            "Fold 5 RMSE - LGB: 426.2885, XGB: 435.9157, Ridge: 979.6600\n"
          ]
        }
      ]
    },
    {
      "cell_type": "code",
      "source": [
        "# STEP 8: TRAIN META-MODEL\n",
        "X_meta = np.vstack([oof_lgb, oof_xgb, oof_ridge]).T\n",
        "X_meta_test = np.vstack([preds_test_lgb, preds_test_xgb, preds_test_ridge]).T\n",
        "\n",
        "meta_model = Ridge(alpha=1.0)\n",
        "meta_model.fit(X_meta, y)\n",
        "preds_final = meta_model.predict(X_meta_test)\n",
        "\n",
        "from math import sqrt\n",
        "final_rmse = sqrt(mean_squared_error(y, meta_model.predict(X_meta)))\n",
        "print(f\"\\nFinal Ensemble RMSE: {final_rmse:.4f}\")"
      ],
      "metadata": {
        "colab": {
          "base_uri": "https://localhost:8080/"
        },
        "id": "498rmE2ZCz54",
        "outputId": "4ed396ec-943e-4306-e934-4b842e20c1b4"
      },
      "execution_count": 7,
      "outputs": [
        {
          "output_type": "stream",
          "name": "stdout",
          "text": [
            "\n",
            "Final Ensemble RMSE: 426.1811\n"
          ]
        }
      ]
    },
    {
      "cell_type": "code",
      "source": [
        "# STEP 9: CREATE SUBMISSION\n",
        "submission = pd.DataFrame({\n",
        "    'route_key': test['route_key'],\n",
        "    'final_seatcount': preds_final.round().astype(int)\n",
        "})\n",
        "\n",
        "submission.to_csv(\"submission.csv\", index=False)\n",
        "print(\"Submission file saved as 'submission.csv'\")"
      ],
      "metadata": {
        "colab": {
          "base_uri": "https://localhost:8080/"
        },
        "id": "-CcQksu5DI9Q",
        "outputId": "f6ace998-3fa6-494f-ca26-eb2f0c14ec22"
      },
      "execution_count": 8,
      "outputs": [
        {
          "output_type": "stream",
          "name": "stdout",
          "text": [
            "Submission file saved as 'submission.csv'\n"
          ]
        }
      ]
    }
  ]
}